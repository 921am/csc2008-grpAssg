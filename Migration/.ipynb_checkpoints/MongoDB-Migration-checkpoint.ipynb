{
 "cells": [
  {
   "cell_type": "code",
   "execution_count": null,
   "metadata": {},
   "outputs": [],
   "source": [
    "import os\n",
    "import pandas as pd\n",
    "from datetime import datetime\n",
    "from pprint import pprint\n",
    "from pymongo import MongoClient\n",
    "import sys\n",
    "\n",
    "\n",
    "def import_content(filepath, collection_name, counter_id, sort_name):\n",
    "    \n",
    "    collection = db[collection_name]\n",
    "    collection.drop()\n",
    "    \n",
    "    file_res = os.path.basename(filepath)\n",
    "    \n",
    "    try:\n",
    "        data = pd.read_csv(file_res)\n",
    "        df = data.to_dict('records')\n",
    "        collection.insert_many(df, ordered=False)\n",
    "\n",
    "        print(\"\\n\\n========================================\", collection_name, \"========================================\\n\\n\")\n",
    "\n",
    "        if collection_name == \"Inmates\":\n",
    "            for i in collection.find():\n",
    "                inmateId = i['InmateID']\n",
    "                dateEntered_string = i['DateEntered']\n",
    "                dateEntered_object = datetime.strptime(dateEntered_string, \"%m/%d/%Y\")\n",
    "                dateEntered_object = dateEntered_object.strftime(\"%d-%m-%Y\")\n",
    "\n",
    "                dateReleased_string = i['DateReleased']\n",
    "                dateReleased_object = datetime.strptime(dateReleased_string, \"%m/%d/%Y\")\n",
    "                dateReleased_object = dateReleased_object.strftime(\"%d-%m-%Y\")\n",
    "\n",
    "                collection.update_one({\"InmateID\": inmateId}, {\"$set\": {\"DateEntered\": dateEntered_object}})\n",
    "                collection.update_one({\"InmateID\": inmateId}, {\"$set\": {\"DateReleased\": dateReleased_object}})\n",
    "\n",
    "        for i in collection.find():\n",
    "            pprint(i)\n",
    "            print('\\n')\n",
    "\n",
    "        for i in collection.find().sort(sort_name, -1).limit(1):\n",
    "            result = i[sort_name]\n",
    "            print('Seq count: ', result, \"\\n\")\n",
    "\n",
    "        col_counter.insert_one({'name': counter_id, 'seq': result})\n",
    "                \n",
    "    except:\n",
    "        col_counter.insert_one({'name': counter_id, 'seq': 0})\n",
    "        print('No ', file_res, '\\n')\n",
    "    \n",
    "    print('Counter sequence\\n')\n",
    "    for i in col_counter.find():\n",
    "        print(i)\n",
    "\n",
    "        \n",
    "if __name__ == \"__main__\":\n",
    "    \n",
    "    client = MongoClient(host='localhost', port=27017)\n",
    "    db = client['CRUD']\n",
    "    col_counter = db['Counter']\n",
    "    col_counter.drop()\n",
    "    \n",
    "    collection_name = 'Inmates'\n",
    "    sort_name = 'InmateID'\n",
    "    counter_id = 'inmateID'\n",
    "    filepath = '/inmates.csv'\n",
    "    import_content(filepath, collection_name, counter_id, sort_name)"
   ]
  },
  {
   "cell_type": "code",
   "execution_count": null,
   "metadata": {},
   "outputs": [],
   "source": [
    "    collection_name = 'Users'\n",
    "    sort_name = 'UserID'\n",
    "    counter_id = 'userID'\n",
    "    filepath = '/users.csv'\n",
    "    import_content(filepath, collection_name, counter_id, sort_name)"
   ]
  },
  {
   "cell_type": "code",
   "execution_count": null,
   "metadata": {},
   "outputs": [],
   "source": [
    "    collection_name = 'AcadProgramme'\n",
    "    sort_name = 'ProgID'\n",
    "    counter_id = 'acadProjID'\n",
    "    filepath = '/acadProgramme.csv'\n",
    "    import_content(filepath, collection_name, counter_id, sort_name)"
   ]
  },
  {
   "cell_type": "code",
   "execution_count": null,
   "metadata": {},
   "outputs": [],
   "source": [
    "    collection_name = 'DrugRehabProgramme'\n",
    "    sort_name = 'ProgID'\n",
    "    counter_id = 'drugRehabProjID'\n",
    "    filepath = '/drugRehabProgramme.csv'\n",
    "    import_content(filepath, collection_name, counter_id, sort_name)"
   ]
  },
  {
   "cell_type": "code",
   "execution_count": null,
   "metadata": {},
   "outputs": [],
   "source": [
    "    collection_name = 'VocationalProgramme'\n",
    "    sort_name = 'ProgID'\n",
    "    counter_id = 'vocationalProjID'\n",
    "    filepath = '/vocationalProgramme.csv'\n",
    "    import_content(filepath, collection_name, counter_id, sort_name)"
   ]
  },
  {
   "cell_type": "code",
   "execution_count": null,
   "metadata": {},
   "outputs": [],
   "source": [
    "    collection_name = 'InmateProgress'\n",
    "    sort_name = 'InmateProgressID'\n",
    "    counter_id = 'inmateProjID'\n",
    "    filepath = '/inmateProgress.csv'\n",
    "    import_content(filepath, collection_name, counter_id, sort_name)"
   ]
  }
 ],
 "metadata": {
  "kernelspec": {
   "display_name": "Python 3",
   "language": "python",
   "name": "python3"
  },
  "language_info": {
   "codemirror_mode": {
    "name": "ipython",
    "version": 3
   },
   "file_extension": ".py",
   "mimetype": "text/x-python",
   "name": "python",
   "nbconvert_exporter": "python",
   "pygments_lexer": "ipython3",
   "version": "3.8.5"
  }
 },
 "nbformat": 4,
 "nbformat_minor": 4
}
